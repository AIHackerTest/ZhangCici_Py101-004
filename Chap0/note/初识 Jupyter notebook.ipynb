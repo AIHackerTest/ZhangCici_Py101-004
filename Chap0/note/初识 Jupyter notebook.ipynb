{
 "cells": [
  {
   "cell_type": "markdown",
   "metadata": {},
   "source": [
    "# 与Jupyter Notebook的初识\n",
    "\n",
    "今天课程组推荐了一个新朋友：Jupyter Notebook。（OS:这是什么鬼？一直用TextWrangler和Terminal不是好好的吗，为啥要换嘞。）接下来看到说可在写代码、跑代码、写笔记之间切换自如，快速调试，优雅呈现。于是决定一试（好啦，还因为是作业呐（⁄•⁄ω⁄•⁄）\n",
    "\n",
    "### 找到Jupyter Notebook\n",
    "首先我要先找到他。第一步按照卡包提示下载安装了Anaconda,launch一下在首页的jupyter。终端刷刷的飞出几行，jupyter notebook在浏览器打开了。如果不点launch,还能怎么找到它呢。是的，好朋友命令行：‘jupyter notebook’\n",
    "\n",
    "### Jupyter能干啥\n",
    "好了，现在要看一下这个朱庇特有多厉害呢。页面分为files\\running\\Clusters三个部分。files 展示的是电脑里的文件夹，在这里可以打个任何一个文件。running表示当前正在运行的程序或者正在编辑的笔记。cluster是干啥的呢。在添加新notebook的按钮处，有几个文件类型的选项：python 3\\ Text File\\ Terminal。写代码、写笔记、跑代码三个功能都可以做啦。\n",
    "\n",
    "### 咋用 Jupyter\n",
    "建立了一个python 3 的文档，可以开始写代码啦。\n",
    "\n",
    "开始写的第一个体验就是方便！输入左边括号，右边括号自动就出现了。输入函数之后，下一行直接就是空四格。jupyter notebook以cell为基本单位，cell里可以code\\markdown任意切换。cell可以运行并显示结果，三个功能在一个页面都搞定。\n",
    "\n",
    "接下来就是一系列快捷键\n",
    "\n",
    "- 执行当前cell，并自动跳到下一个cell：Shift Enter\n",
    "\n",
    "- 执行当前cell，执行后不自动调转到下一个cell：Ctrl-Enter\n",
    "\n",
    "- 是当前的cell进入编辑模式：Enter\n",
    "\n",
    "- 退出当前cell的编辑模式：Esc\n",
    "\n",
    "- 删除当前的cell：双D\n",
    "\n",
    "- 为当前的cell加入line number：单L\n",
    "\n",
    "- 将当前的cell转化为具有一级标题的maskdown：单1\n",
    "\n",
    "- 将当前的cell转化为具有二级标题的maskdown：单2\n",
    "\n",
    "- 将当前的cell转化为具有三级标题的maskdown：单3\n",
    "\n",
    "- 为一行或者多行添加/取消注释：Crtl /\n",
    "\n",
    "- 撤销对某个cell的删除：z\n",
    "\n",
    "- 浏览器的各个Tab之间切换：Crtl PgUp和Crtl PgDn\n",
    "\n",
    "- 快速跳转到首个cell：Crtl Home\n",
    "\n",
    "- 快速跳转到最后一个cell：Crtl End\n",
    "\n",
    "依次试过这些快捷键，操作方便理解也多了一层。那么我想要把以前写过的脚本运行或者导入，要怎么做呢？\n",
    "- 导入代码：%load xxx #test.py   xxx是当前路径下的一个python文件\n",
    "- 运行代码：%run file.py\n",
    "\n",
    "### 小结\n",
    "\n",
    "写到这里，我已经能够极其初级的使用jupyter notebook了，这次初识非常愉快，以后再也不用各个软件间来回切换了。一个工具功能的熟练使用，更有助于进入沉浸的氛围。当然，就目前接触的还是远远不够的。希望随着之后日日相见交流、定期总结，我们能更加深入了解彼此。:-D"
   ]
  },
  {
   "cell_type": "code",
   "execution_count": null,
   "metadata": {
    "collapsed": true
   },
   "outputs": [],
   "source": []
  }
 ],
 "metadata": {
  "kernelspec": {
   "display_name": "Python 3",
   "language": "python",
   "name": "python3"
  },
  "language_info": {
   "codemirror_mode": {
    "name": "ipython",
    "version": 3
   },
   "file_extension": ".py",
   "mimetype": "text/x-python",
   "name": "python",
   "nbconvert_exporter": "python",
   "pygments_lexer": "ipython3",
   "version": "3.6.1"
  }
 },
 "nbformat": 4,
 "nbformat_minor": 2
}
