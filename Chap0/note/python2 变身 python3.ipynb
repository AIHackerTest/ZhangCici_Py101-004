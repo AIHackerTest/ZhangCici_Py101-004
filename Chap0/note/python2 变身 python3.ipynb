{
 "cells": [
  {
   "attachments": {},
   "cell_type": "markdown",
   "metadata": {},
   "source": [
    "# 从 python 2 变身 python3 \n",
    "当看到课程组说要用python3的时候，我是有点抗拒的。第一是《笨方法》中说不要安python3，呐，我分明记得那句：“也许有程序员会告诉你安装和学习python3，你应该告诉他们'等你电脑里的所有python 代码都是python3的了，我再试着学学吧。’，这句话够他们忙活十来年了。“。程序员大哥也说不要安装Python3。第二是已经用python 2写了四十个练习，一时间还是改不过来。所以除了是因为作业和被要求，到底是为啥要用python3呢？我一边别扭的找不同，又别扭的质问灵魂到底是为啥？\n",
    "\n",
    "#### 顺着各种链接找下来，总结起来以下几点\n",
    "\n",
    "-  python2 会造成歧义，python3的唯一性可以减少bug\n",
    "\n",
    "  举例‘abcd'在python3 中只唯一代表文本字符串‘abcd'，2中却还可以表示字节’97、98、99、100‘。不易识别，这完全不符合python之禅里对’preferably only one‘的要求。python3很好的解决了这个歧义，可以减少bug出现。（OS:那么问题来了，python2在设计的时候是咋想的呢）\n",
    "  \n",
    "  \n",
    "- all in unicode\n",
    "\n",
    "  看到这一点，解释了上一点的疑问。python2的出现是在Unicode标准化之前，而python3是之后。在全世界将所有字符统一为二进制编码之后，也就出现了上面的’a文本字符‘=’97‘这种情况。（OS:那这就不怪python2咯,它被设计的年代还不存在这种问题）（补充：py2的时候已经有统一编码了，只不过py2为了向后兼容还是沿用了py1)\n",
    "  \n",
    "\n",
    "- 其实告诉我可以减少bug这个理由已经足够了。:)\n",
    "\n",
    "  一个不够吗，那再来一些：《十个碉堡了的 Python 特性，你不能用是因为你拒绝升级 Python 3》 http://www.asmeurer.com/python3-presentation/slides.html#1\n",
    "  \n",
    "\n",
    "  \n",
    "  还有一句要写下 ： Obviously it will take decades to see if Python 3 code in the world outstrips Python 2 code in terms of lines of code.（OS:那我用一天半在最开始就换到正确的路上，这件事不是很赚吗。啊哈后来又看到这句：”如果你们真信了向 Py 3 迁移要十年的话，Py 3 的迁移就需要无限年，你仔细尝试一下，那么向 Py 3 迁移只需要五分钟。“）\n",
    "\n",
    "  \n",
    "#### 说服了自己，接下来开始准备变身了\n",
    "\n",
    "\n",
    "- print不是一个语句而是一个函数"
   ]
  },
  {
   "cell_type": "code",
   "execution_count": 13,
   "metadata": {
    "scrolled": false
   },
   "outputs": [
    {
     "name": "stdout",
     "output_type": "stream",
     "text": [
      "Hello world\n"
     ]
    }
   ],
   "source": [
    "# python3\n",
    "print (\"Hello world\")"
   ]
  },
  {
   "attachments": {},
   "cell_type": "markdown",
   "metadata": {},
   "source": [
    "- 编码\n",
    "\n",
    "  python3 采用了固定的UTF8作为编码，Python 2 有 ASCII str() 类型，unicode() 是单独的，不是 byte 类型。现在， 在 Python 3，我们最终有了 Unicode (utf-8) 字符串，以及一个字节类：byte 和 bytearrays。"
   ]
  },
  {
   "cell_type": "code",
   "execution_count": 14,
   "metadata": {},
   "outputs": [
    {
     "name": "stdout",
     "output_type": "stream",
     "text": [
      "china\n"
     ]
    }
   ],
   "source": [
    "中国 = 'china'\n",
    "print(中国)"
   ]
  },
  {
   "cell_type": "markdown",
   "metadata": {},
   "source": [
    "\n",
    "- 不等运算符\n",
    "\n",
    " Python 2.x中不等于有两种写法 != 和 <>\n",
    " Python 3.x中去掉了<>, 只有!=一种写法\n",
    " \n",
    " \n",
    "- 还有很多变化我不想列出来了\n",
    "\n",
    "http://python-future.org/compatible_idioms.html 链接在此，赶紧在练习中操练起来。遇到什么真实的例子再加到这里来"
   ]
  },
  {
   "cell_type": "markdown",
   "metadata": {},
   "source": [
    "\n",
    "#### 通过找资料还知道了啥？\n",
    "\n",
    "- python语言的发明者：Guido van Rossum（吉多·范罗苏姆）。python在1989年被发明，1991年初，Python发布了第一个公开发行版（OS:哇 python比我年纪大啊）\n",
    "\n",
    "- 啥是unicode\n",
    "https://baike.baidu.com/item/Unicode/750500?fr=aladdin\n",
    "\n",
    "#### 小结\n",
    "翻资料的时候看到这段：\n",
    "\n",
    "The Kübler-Ross model outlines the stages that one goes through in dealing with death:\n",
    "\n",
    "- Denial\n",
    "- Anger\n",
    "- Bargaining\n",
    "- Depression\n",
    "- Acceptance\n",
    "This is sometimes referred to as the five stages of grief.Some have jokingly called them the five stages of software development. I think it actually matches the Python community's transition to Python 3 rather well, both what has occurred and where we currently are.\n",
    "\n",
    "有趣\n",
    "\n",
    "\n"
   ]
  }
 ],
 "metadata": {
  "kernelspec": {
   "display_name": "Python 3",
   "language": "python",
   "name": "python3"
  },
  "language_info": {
   "codemirror_mode": {
    "name": "ipython",
    "version": 3
   },
   "file_extension": ".py",
   "mimetype": "text/x-python",
   "name": "python",
   "nbconvert_exporter": "python",
   "pygments_lexer": "ipython3",
   "version": "3.6.1"
  }
 },
 "nbformat": 4,
 "nbformat_minor": 2
}
